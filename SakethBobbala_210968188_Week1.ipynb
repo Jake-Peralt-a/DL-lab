{
 "cells": [
  {
   "cell_type": "markdown",
   "metadata": {},
   "source": [
    "# Saketh Bobbala\n",
    "## 210968188\n",
    "### Week 1 "
   ]
  },
  {
   "cell_type": "markdown",
   "metadata": {},
   "source": [
    "Exercise 1:\n",
    "\n",
    "Accurate measurement of body fat is inconvenient/costly and it is desirable to have easy methods of predicting Body Fat. Using the Body Fat dataset, write a Neural Network to predict body fat:\n",
    "a. Number of Hidden layers = 3 and number of units are 128,64,32\n",
    "b. Use RELU activation function, let learning rate be 0.1\n",
    "Split the data into (80,20) split and tabulate the performance in terms of RMS for 100 epochs and comment on performance."
   ]
  },
  {
   "cell_type": "code",
   "execution_count": 1,
   "metadata": {
    "id": "-n384pQclPxF"
   },
   "outputs": [],
   "source": [
    "#Importing relevant libraries \n",
    "import pandas as pd\n",
    "import numpy as np\n",
    "from sklearn.model_selection import train_test_split\n",
    "import tensorflow as tf\n",
    "from tensorflow.keras.models import Sequential\n",
    "from tensorflow.keras.layers import Dense, Input"
   ]
  },
  {
   "cell_type": "code",
   "execution_count": 2,
   "metadata": {
    "id": "L_igX_sMqkOw"
   },
   "outputs": [],
   "source": [
    "#Reading the csv file using pandas\n",
    "df=pd.read_csv('bodyfat.csv')"
   ]
  },
  {
   "cell_type": "code",
   "execution_count": 3,
   "metadata": {},
   "outputs": [
    {
     "name": "stdout",
     "output_type": "stream",
     "text": [
      "<class 'pandas.core.frame.DataFrame'>\n",
      "RangeIndex: 252 entries, 0 to 251\n",
      "Data columns (total 15 columns):\n",
      " #   Column   Non-Null Count  Dtype  \n",
      "---  ------   --------------  -----  \n",
      " 0   Density  252 non-null    float64\n",
      " 1   BodyFat  252 non-null    float64\n",
      " 2   Age      252 non-null    int64  \n",
      " 3   Weight   252 non-null    float64\n",
      " 4   Height   252 non-null    float64\n",
      " 5   Neck     252 non-null    float64\n",
      " 6   Chest    252 non-null    float64\n",
      " 7   Abdomen  252 non-null    float64\n",
      " 8   Hip      252 non-null    float64\n",
      " 9   Thigh    252 non-null    float64\n",
      " 10  Knee     252 non-null    float64\n",
      " 11  Ankle    252 non-null    float64\n",
      " 12  Biceps   252 non-null    float64\n",
      " 13  Forearm  252 non-null    float64\n",
      " 14  Wrist    252 non-null    float64\n",
      "dtypes: float64(14), int64(1)\n",
      "memory usage: 29.7 KB\n"
     ]
    }
   ],
   "source": [
    "#Viewing attributes\n",
    "df.info()"
   ]
  },
  {
   "cell_type": "code",
   "execution_count": 4,
   "metadata": {
    "colab": {
     "base_uri": "https://localhost:8080/",
     "height": 206
    },
    "id": "v4Fi9QDxq5OK",
    "outputId": "ff5a8353-ab03-40d2-de3c-9bbfcbd5362b"
   },
   "outputs": [
    {
     "data": {
      "text/html": [
       "<div>\n",
       "<style scoped>\n",
       "    .dataframe tbody tr th:only-of-type {\n",
       "        vertical-align: middle;\n",
       "    }\n",
       "\n",
       "    .dataframe tbody tr th {\n",
       "        vertical-align: top;\n",
       "    }\n",
       "\n",
       "    .dataframe thead th {\n",
       "        text-align: right;\n",
       "    }\n",
       "</style>\n",
       "<table border=\"1\" class=\"dataframe\">\n",
       "  <thead>\n",
       "    <tr style=\"text-align: right;\">\n",
       "      <th></th>\n",
       "      <th>Density</th>\n",
       "      <th>BodyFat</th>\n",
       "      <th>Age</th>\n",
       "      <th>Weight</th>\n",
       "      <th>Height</th>\n",
       "      <th>Neck</th>\n",
       "      <th>Chest</th>\n",
       "      <th>Abdomen</th>\n",
       "      <th>Hip</th>\n",
       "      <th>Thigh</th>\n",
       "      <th>Knee</th>\n",
       "      <th>Ankle</th>\n",
       "      <th>Biceps</th>\n",
       "      <th>Forearm</th>\n",
       "      <th>Wrist</th>\n",
       "    </tr>\n",
       "  </thead>\n",
       "  <tbody>\n",
       "    <tr>\n",
       "      <th>0</th>\n",
       "      <td>1.0708</td>\n",
       "      <td>12.3</td>\n",
       "      <td>23</td>\n",
       "      <td>154.25</td>\n",
       "      <td>67.75</td>\n",
       "      <td>36.2</td>\n",
       "      <td>93.1</td>\n",
       "      <td>85.2</td>\n",
       "      <td>94.5</td>\n",
       "      <td>59.0</td>\n",
       "      <td>37.3</td>\n",
       "      <td>21.9</td>\n",
       "      <td>32.0</td>\n",
       "      <td>27.4</td>\n",
       "      <td>17.1</td>\n",
       "    </tr>\n",
       "    <tr>\n",
       "      <th>1</th>\n",
       "      <td>1.0853</td>\n",
       "      <td>6.1</td>\n",
       "      <td>22</td>\n",
       "      <td>173.25</td>\n",
       "      <td>72.25</td>\n",
       "      <td>38.5</td>\n",
       "      <td>93.6</td>\n",
       "      <td>83.0</td>\n",
       "      <td>98.7</td>\n",
       "      <td>58.7</td>\n",
       "      <td>37.3</td>\n",
       "      <td>23.4</td>\n",
       "      <td>30.5</td>\n",
       "      <td>28.9</td>\n",
       "      <td>18.2</td>\n",
       "    </tr>\n",
       "    <tr>\n",
       "      <th>2</th>\n",
       "      <td>1.0414</td>\n",
       "      <td>25.3</td>\n",
       "      <td>22</td>\n",
       "      <td>154.00</td>\n",
       "      <td>66.25</td>\n",
       "      <td>34.0</td>\n",
       "      <td>95.8</td>\n",
       "      <td>87.9</td>\n",
       "      <td>99.2</td>\n",
       "      <td>59.6</td>\n",
       "      <td>38.9</td>\n",
       "      <td>24.0</td>\n",
       "      <td>28.8</td>\n",
       "      <td>25.2</td>\n",
       "      <td>16.6</td>\n",
       "    </tr>\n",
       "    <tr>\n",
       "      <th>3</th>\n",
       "      <td>1.0751</td>\n",
       "      <td>10.4</td>\n",
       "      <td>26</td>\n",
       "      <td>184.75</td>\n",
       "      <td>72.25</td>\n",
       "      <td>37.4</td>\n",
       "      <td>101.8</td>\n",
       "      <td>86.4</td>\n",
       "      <td>101.2</td>\n",
       "      <td>60.1</td>\n",
       "      <td>37.3</td>\n",
       "      <td>22.8</td>\n",
       "      <td>32.4</td>\n",
       "      <td>29.4</td>\n",
       "      <td>18.2</td>\n",
       "    </tr>\n",
       "    <tr>\n",
       "      <th>4</th>\n",
       "      <td>1.0340</td>\n",
       "      <td>28.7</td>\n",
       "      <td>24</td>\n",
       "      <td>184.25</td>\n",
       "      <td>71.25</td>\n",
       "      <td>34.4</td>\n",
       "      <td>97.3</td>\n",
       "      <td>100.0</td>\n",
       "      <td>101.9</td>\n",
       "      <td>63.2</td>\n",
       "      <td>42.2</td>\n",
       "      <td>24.0</td>\n",
       "      <td>32.2</td>\n",
       "      <td>27.7</td>\n",
       "      <td>17.7</td>\n",
       "    </tr>\n",
       "  </tbody>\n",
       "</table>\n",
       "</div>"
      ],
      "text/plain": [
       "   Density  BodyFat  Age  Weight  Height  Neck  Chest  Abdomen    Hip  Thigh  \\\n",
       "0   1.0708     12.3   23  154.25   67.75  36.2   93.1     85.2   94.5   59.0   \n",
       "1   1.0853      6.1   22  173.25   72.25  38.5   93.6     83.0   98.7   58.7   \n",
       "2   1.0414     25.3   22  154.00   66.25  34.0   95.8     87.9   99.2   59.6   \n",
       "3   1.0751     10.4   26  184.75   72.25  37.4  101.8     86.4  101.2   60.1   \n",
       "4   1.0340     28.7   24  184.25   71.25  34.4   97.3    100.0  101.9   63.2   \n",
       "\n",
       "   Knee  Ankle  Biceps  Forearm  Wrist  \n",
       "0  37.3   21.9    32.0     27.4   17.1  \n",
       "1  37.3   23.4    30.5     28.9   18.2  \n",
       "2  38.9   24.0    28.8     25.2   16.6  \n",
       "3  37.3   22.8    32.4     29.4   18.2  \n",
       "4  42.2   24.0    32.2     27.7   17.7  "
      ]
     },
     "execution_count": 4,
     "metadata": {},
     "output_type": "execute_result"
    }
   ],
   "source": [
    "# Viewing first 5 entries\n",
    "df.head()"
   ]
  },
  {
   "cell_type": "code",
   "execution_count": 5,
   "metadata": {
    "colab": {
     "base_uri": "https://localhost:8080/"
    },
    "id": "Q4Jxzlioq6gy",
    "outputId": "6cd1918d-cf5d-4c9e-d424-c8b5572d5020"
   },
   "outputs": [
    {
     "data": {
      "text/plain": [
       "(252, 15)"
      ]
     },
     "execution_count": 5,
     "metadata": {},
     "output_type": "execute_result"
    }
   ],
   "source": [
    "# Checking the dimension of the dataset\n",
    "df.shape"
   ]
  },
  {
   "cell_type": "code",
   "execution_count": 6,
   "metadata": {
    "id": "dVlnkmcmq8Gx"
   },
   "outputs": [],
   "source": [
    "# Declaring the dependent and independent variables\n",
    "x=df.drop(columns='BodyFat',axis=1)\n",
    "y=df['BodyFat']"
   ]
  },
  {
   "cell_type": "code",
   "execution_count": 7,
   "metadata": {
    "id": "rQb7qY_drZZW"
   },
   "outputs": [],
   "source": [
    "#Splitting data into train and test sets\n",
    "x_train, x_test,y_train, y_test = train_test_split(x,y,test_size=0.2)"
   ]
  },
  {
   "cell_type": "code",
   "execution_count": 8,
   "metadata": {
    "id": "GNM_hpODrajt"
   },
   "outputs": [],
   "source": [
    "# Building the neural network model using Sequential API\n",
    "model = Sequential([\n",
    "    Input(shape=(14,)),\n",
    "    Dense(128, activation='relu'),\n",
    "    Dense(64, activation='relu'),\n",
    "    Dense(32, activation='relu'),\n",
    "    Dense(1, activation='relu')\n",
    "])"
   ]
  },
  {
   "cell_type": "code",
   "execution_count": 9,
   "metadata": {
    "colab": {
     "base_uri": "https://localhost:8080/"
    },
    "id": "iCxWn2BJxbL-",
    "outputId": "e9dbd74c-9865-4b05-c1cb-e4829049b91b"
   },
   "outputs": [
    {
     "name": "stdout",
     "output_type": "stream",
     "text": [
      "Model: \"sequential\"\n",
      "_________________________________________________________________\n",
      " Layer (type)                Output Shape              Param #   \n",
      "=================================================================\n",
      " dense (Dense)               (None, 128)               1920      \n",
      "                                                                 \n",
      " dense_1 (Dense)             (None, 64)                8256      \n",
      "                                                                 \n",
      " dense_2 (Dense)             (None, 32)                2080      \n",
      "                                                                 \n",
      " dense_3 (Dense)             (None, 1)                 33        \n",
      "                                                                 \n",
      "=================================================================\n",
      "Total params: 12,289\n",
      "Trainable params: 12,289\n",
      "Non-trainable params: 0\n",
      "_________________________________________________________________\n"
     ]
    }
   ],
   "source": [
    "#Displaying the architecture of the model\n",
    "model.summary()"
   ]
  },
  {
   "cell_type": "code",
   "execution_count": 10,
   "metadata": {
    "id": "2_7orEhHxkoN"
   },
   "outputs": [],
   "source": [
    "#Compiling the model\n",
    "model.compile(optimizer=tf.keras.optimizers.Adam(learning_rate=0.1),\n",
    "              loss='mse',\n",
    "    metrics=[tf.keras.metrics.RootMeanSquaredError()])"
   ]
  },
  {
   "cell_type": "code",
   "execution_count": 11,
   "metadata": {
    "colab": {
     "base_uri": "https://localhost:8080/"
    },
    "id": "wJsG6ND_zVob",
    "outputId": "9b0e24b9-0c9c-497f-cadf-d46b385f94ae"
   },
   "outputs": [
    {
     "name": "stdout",
     "output_type": "stream",
     "text": [
      "Epoch 1/100\n",
      "7/7 [==============================] - 1s 4ms/step - loss: 377.4534 - root_mean_squared_error: 19.4282\n",
      "Epoch 2/100\n",
      "7/7 [==============================] - 0s 2ms/step - loss: 427.2499 - root_mean_squared_error: 20.6700\n",
      "Epoch 3/100\n",
      "7/7 [==============================] - 0s 3ms/step - loss: 427.2499 - root_mean_squared_error: 20.6700\n",
      "Epoch 4/100\n",
      "7/7 [==============================] - 0s 3ms/step - loss: 427.2498 - root_mean_squared_error: 20.6700\n",
      "Epoch 5/100\n",
      "7/7 [==============================] - 0s 3ms/step - loss: 427.2498 - root_mean_squared_error: 20.6700\n",
      "Epoch 6/100\n",
      "7/7 [==============================] - 0s 3ms/step - loss: 427.2498 - root_mean_squared_error: 20.6700\n",
      "Epoch 7/100\n",
      "7/7 [==============================] - 0s 3ms/step - loss: 427.2498 - root_mean_squared_error: 20.6700\n",
      "Epoch 8/100\n",
      "7/7 [==============================] - 0s 869us/step - loss: 427.2498 - root_mean_squared_error: 20.6700\n",
      "Epoch 9/100\n",
      "7/7 [==============================] - 0s 3ms/step - loss: 427.2498 - root_mean_squared_error: 20.6700\n",
      "Epoch 10/100\n",
      "7/7 [==============================] - 0s 3ms/step - loss: 427.2498 - root_mean_squared_error: 20.6700\n",
      "Epoch 11/100\n",
      "7/7 [==============================] - 0s 3ms/step - loss: 427.2498 - root_mean_squared_error: 20.6700\n",
      "Epoch 12/100\n",
      "7/7 [==============================] - 0s 3ms/step - loss: 427.2498 - root_mean_squared_error: 20.6700\n",
      "Epoch 13/100\n",
      "7/7 [==============================] - 0s 3ms/step - loss: 427.2499 - root_mean_squared_error: 20.6700\n",
      "Epoch 14/100\n",
      "7/7 [==============================] - 0s 3ms/step - loss: 427.2498 - root_mean_squared_error: 20.6700\n",
      "Epoch 15/100\n",
      "7/7 [==============================] - 0s 1ms/step - loss: 427.2498 - root_mean_squared_error: 20.6700\n",
      "Epoch 16/100\n",
      "7/7 [==============================] - 0s 3ms/step - loss: 427.2498 - root_mean_squared_error: 20.6700\n",
      "Epoch 17/100\n",
      "7/7 [==============================] - 0s 3ms/step - loss: 427.2498 - root_mean_squared_error: 20.6700\n",
      "Epoch 18/100\n",
      "7/7 [==============================] - 0s 3ms/step - loss: 427.2498 - root_mean_squared_error: 20.6700\n",
      "Epoch 19/100\n",
      "7/7 [==============================] - 0s 3ms/step - loss: 427.2498 - root_mean_squared_error: 20.6700\n",
      "Epoch 20/100\n",
      "7/7 [==============================] - 0s 3ms/step - loss: 427.2498 - root_mean_squared_error: 20.6700\n",
      "Epoch 21/100\n",
      "7/7 [==============================] - 0s 3ms/step - loss: 427.2498 - root_mean_squared_error: 20.6700\n",
      "Epoch 22/100\n",
      "7/7 [==============================] - 0s 1ms/step - loss: 427.2498 - root_mean_squared_error: 20.6700\n",
      "Epoch 23/100\n",
      "7/7 [==============================] - 0s 175us/step - loss: 427.2498 - root_mean_squared_error: 20.6700\n",
      "Epoch 24/100\n",
      "7/7 [==============================] - 0s 2ms/step - loss: 427.2498 - root_mean_squared_error: 20.6700\n",
      "Epoch 25/100\n",
      "7/7 [==============================] - 0s 3ms/step - loss: 427.2498 - root_mean_squared_error: 20.6700\n",
      "Epoch 26/100\n",
      "7/7 [==============================] - 0s 3ms/step - loss: 427.2498 - root_mean_squared_error: 20.6700\n",
      "Epoch 27/100\n",
      "7/7 [==============================] - 0s 4ms/step - loss: 427.2499 - root_mean_squared_error: 20.6700\n",
      "Epoch 28/100\n",
      "7/7 [==============================] - 0s 2ms/step - loss: 427.2498 - root_mean_squared_error: 20.6700\n",
      "Epoch 29/100\n",
      "7/7 [==============================] - 0s 3ms/step - loss: 427.2499 - root_mean_squared_error: 20.6700\n",
      "Epoch 30/100\n",
      "7/7 [==============================] - 0s 3ms/step - loss: 427.2498 - root_mean_squared_error: 20.6700\n",
      "Epoch 31/100\n",
      "7/7 [==============================] - 0s 1ms/step - loss: 427.2499 - root_mean_squared_error: 20.6700\n",
      "Epoch 32/100\n",
      "7/7 [==============================] - 0s 2ms/step - loss: 427.2498 - root_mean_squared_error: 20.6700\n",
      "Epoch 33/100\n",
      "7/7 [==============================] - 0s 3ms/step - loss: 427.2498 - root_mean_squared_error: 20.6700\n",
      "Epoch 34/100\n",
      "7/7 [==============================] - 0s 2ms/step - loss: 427.2498 - root_mean_squared_error: 20.6700\n",
      "Epoch 35/100\n",
      "7/7 [==============================] - 0s 3ms/step - loss: 427.2498 - root_mean_squared_error: 20.6700\n",
      "Epoch 36/100\n",
      "7/7 [==============================] - 0s 3ms/step - loss: 427.2499 - root_mean_squared_error: 20.6700\n",
      "Epoch 37/100\n",
      "7/7 [==============================] - 0s 3ms/step - loss: 427.2498 - root_mean_squared_error: 20.6700\n",
      "Epoch 38/100\n",
      "7/7 [==============================] - 0s 3ms/step - loss: 427.2498 - root_mean_squared_error: 20.6700\n",
      "Epoch 39/100\n",
      "7/7 [==============================] - 0s 3ms/step - loss: 427.2499 - root_mean_squared_error: 20.6700\n",
      "Epoch 40/100\n",
      "7/7 [==============================] - 0s 3ms/step - loss: 427.2498 - root_mean_squared_error: 20.6700\n",
      "Epoch 41/100\n",
      "7/7 [==============================] - 0s 2ms/step - loss: 427.2499 - root_mean_squared_error: 20.6700\n",
      "Epoch 42/100\n",
      "7/7 [==============================] - 0s 3ms/step - loss: 427.2498 - root_mean_squared_error: 20.6700\n",
      "Epoch 43/100\n",
      "7/7 [==============================] - 0s 2ms/step - loss: 427.2499 - root_mean_squared_error: 20.6700\n",
      "Epoch 44/100\n",
      "7/7 [==============================] - 0s 3ms/step - loss: 427.2498 - root_mean_squared_error: 20.6700\n",
      "Epoch 45/100\n",
      "7/7 [==============================] - 0s 3ms/step - loss: 427.2498 - root_mean_squared_error: 20.6700\n",
      "Epoch 46/100\n",
      "7/7 [==============================] - 0s 1ms/step - loss: 427.2498 - root_mean_squared_error: 20.6700\n",
      "Epoch 47/100\n",
      "7/7 [==============================] - 0s 3ms/step - loss: 427.2498 - root_mean_squared_error: 20.6700\n",
      "Epoch 48/100\n",
      "7/7 [==============================] - 0s 3ms/step - loss: 427.2498 - root_mean_squared_error: 20.6700\n",
      "Epoch 49/100\n",
      "7/7 [==============================] - 0s 3ms/step - loss: 427.2498 - root_mean_squared_error: 20.6700\n",
      "Epoch 50/100\n",
      "7/7 [==============================] - 0s 630us/step - loss: 427.2499 - root_mean_squared_error: 20.6700\n",
      "Epoch 51/100\n",
      "7/7 [==============================] - 0s 2ms/step - loss: 427.2498 - root_mean_squared_error: 20.6700\n",
      "Epoch 52/100\n",
      "7/7 [==============================] - 0s 3ms/step - loss: 427.2498 - root_mean_squared_error: 20.6700\n",
      "Epoch 53/100\n",
      "7/7 [==============================] - 0s 3ms/step - loss: 427.2498 - root_mean_squared_error: 20.6700\n",
      "Epoch 54/100\n",
      "7/7 [==============================] - 0s 2ms/step - loss: 427.2498 - root_mean_squared_error: 20.6700\n",
      "Epoch 55/100\n",
      "7/7 [==============================] - 0s 1ms/step - loss: 427.2498 - root_mean_squared_error: 20.6700\n",
      "Epoch 56/100\n",
      "7/7 [==============================] - 0s 2ms/step - loss: 427.2498 - root_mean_squared_error: 20.6700\n",
      "Epoch 57/100\n",
      "7/7 [==============================] - 0s 2ms/step - loss: 427.2498 - root_mean_squared_error: 20.6700\n",
      "Epoch 58/100\n",
      "7/7 [==============================] - 0s 2ms/step - loss: 427.2498 - root_mean_squared_error: 20.6700\n",
      "Epoch 59/100\n",
      "7/7 [==============================] - 0s 2ms/step - loss: 427.2498 - root_mean_squared_error: 20.6700\n",
      "Epoch 60/100\n",
      "7/7 [==============================] - 0s 3ms/step - loss: 427.2498 - root_mean_squared_error: 20.6700\n",
      "Epoch 61/100\n",
      "7/7 [==============================] - 0s 3ms/step - loss: 427.2498 - root_mean_squared_error: 20.6700\n",
      "Epoch 62/100\n",
      "7/7 [==============================] - 0s 2ms/step - loss: 427.2498 - root_mean_squared_error: 20.6700\n",
      "Epoch 63/100\n",
      "7/7 [==============================] - 0s 3ms/step - loss: 427.2498 - root_mean_squared_error: 20.6700\n",
      "Epoch 64/100\n",
      "7/7 [==============================] - 0s 3ms/step - loss: 427.2498 - root_mean_squared_error: 20.6700\n",
      "Epoch 65/100\n",
      "7/7 [==============================] - 0s 1ms/step - loss: 427.2498 - root_mean_squared_error: 20.6700\n",
      "Epoch 66/100\n",
      "7/7 [==============================] - 0s 511us/step - loss: 427.2498 - root_mean_squared_error: 20.6700\n",
      "Epoch 67/100\n",
      "7/7 [==============================] - 0s 3ms/step - loss: 427.2498 - root_mean_squared_error: 20.6700\n",
      "Epoch 68/100\n",
      "7/7 [==============================] - 0s 3ms/step - loss: 427.2498 - root_mean_squared_error: 20.6700\n",
      "Epoch 69/100\n",
      "7/7 [==============================] - 0s 3ms/step - loss: 427.2498 - root_mean_squared_error: 20.6700\n",
      "Epoch 70/100\n",
      "7/7 [==============================] - 0s 2ms/step - loss: 427.2499 - root_mean_squared_error: 20.6700\n",
      "Epoch 71/100\n"
     ]
    },
    {
     "name": "stdout",
     "output_type": "stream",
     "text": [
      "7/7 [==============================] - 0s 3ms/step - loss: 427.2498 - root_mean_squared_error: 20.6700\n",
      "Epoch 72/100\n",
      "7/7 [==============================] - 0s 3ms/step - loss: 427.2498 - root_mean_squared_error: 20.6700\n",
      "Epoch 73/100\n",
      "7/7 [==============================] - 0s 2ms/step - loss: 427.2498 - root_mean_squared_error: 20.6700\n",
      "Epoch 74/100\n",
      "7/7 [==============================] - 0s 3ms/step - loss: 427.2498 - root_mean_squared_error: 20.6700\n",
      "Epoch 75/100\n",
      "7/7 [==============================] - 0s 3ms/step - loss: 427.2499 - root_mean_squared_error: 20.6700\n",
      "Epoch 76/100\n",
      "7/7 [==============================] - 0s 3ms/step - loss: 427.2499 - root_mean_squared_error: 20.6700\n",
      "Epoch 77/100\n",
      "7/7 [==============================] - 0s 3ms/step - loss: 427.2498 - root_mean_squared_error: 20.6700\n",
      "Epoch 78/100\n",
      "7/7 [==============================] - 0s 3ms/step - loss: 427.2498 - root_mean_squared_error: 20.6700\n",
      "Epoch 79/100\n",
      "7/7 [==============================] - 0s 3ms/step - loss: 427.2498 - root_mean_squared_error: 20.6700\n",
      "Epoch 80/100\n",
      "7/7 [==============================] - 0s 3ms/step - loss: 427.2498 - root_mean_squared_error: 20.6700\n",
      "Epoch 81/100\n",
      "7/7 [==============================] - 0s 2ms/step - loss: 427.2498 - root_mean_squared_error: 20.6700\n",
      "Epoch 82/100\n",
      "7/7 [==============================] - 0s 3ms/step - loss: 427.2498 - root_mean_squared_error: 20.6700\n",
      "Epoch 83/100\n",
      "7/7 [==============================] - 0s 3ms/step - loss: 427.2498 - root_mean_squared_error: 20.6700\n",
      "Epoch 84/100\n",
      "7/7 [==============================] - 0s 3ms/step - loss: 427.2498 - root_mean_squared_error: 20.6700\n",
      "Epoch 85/100\n",
      "7/7 [==============================] - 0s 534us/step - loss: 427.2499 - root_mean_squared_error: 20.6700\n",
      "Epoch 86/100\n",
      "7/7 [==============================] - 0s 2ms/step - loss: 427.2498 - root_mean_squared_error: 20.6700\n",
      "Epoch 87/100\n",
      "7/7 [==============================] - 0s 0s/step - loss: 427.2498 - root_mean_squared_error: 20.6700\n",
      "Epoch 88/100\n",
      "7/7 [==============================] - 0s 2ms/step - loss: 427.2499 - root_mean_squared_error: 20.6700\n",
      "Epoch 89/100\n",
      "7/7 [==============================] - 0s 3ms/step - loss: 427.2498 - root_mean_squared_error: 20.6700\n",
      "Epoch 90/100\n",
      "7/7 [==============================] - 0s 3ms/step - loss: 427.2498 - root_mean_squared_error: 20.6700\n",
      "Epoch 91/100\n",
      "7/7 [==============================] - 0s 3ms/step - loss: 427.2498 - root_mean_squared_error: 20.6700\n",
      "Epoch 92/100\n",
      "7/7 [==============================] - 0s 3ms/step - loss: 427.2498 - root_mean_squared_error: 20.6700\n",
      "Epoch 93/100\n",
      "7/7 [==============================] - 0s 3ms/step - loss: 427.2498 - root_mean_squared_error: 20.6700\n",
      "Epoch 94/100\n",
      "7/7 [==============================] - 0s 3ms/step - loss: 427.2498 - root_mean_squared_error: 20.6700\n",
      "Epoch 95/100\n",
      "7/7 [==============================] - 0s 3ms/step - loss: 427.2498 - root_mean_squared_error: 20.6700\n",
      "Epoch 96/100\n",
      "7/7 [==============================] - 0s 735us/step - loss: 427.2498 - root_mean_squared_error: 20.6700\n",
      "Epoch 97/100\n",
      "7/7 [==============================] - 0s 489us/step - loss: 427.2498 - root_mean_squared_error: 20.6700\n",
      "Epoch 98/100\n",
      "7/7 [==============================] - 0s 293us/step - loss: 427.2498 - root_mean_squared_error: 20.6700\n",
      "Epoch 99/100\n",
      "7/7 [==============================] - 0s 2ms/step - loss: 427.2498 - root_mean_squared_error: 20.6700\n",
      "Epoch 100/100\n",
      "7/7 [==============================] - 0s 3ms/step - loss: 427.2498 - root_mean_squared_error: 20.6700\n"
     ]
    },
    {
     "data": {
      "text/plain": [
       "<keras.callbacks.History at 0x2085f7ee200>"
      ]
     },
     "execution_count": 11,
     "metadata": {},
     "output_type": "execute_result"
    }
   ],
   "source": [
    "#Training the model using training data\n",
    "model.fit(x_train,y_train,epochs=100,batch_size=32)"
   ]
  },
  {
   "cell_type": "code",
   "execution_count": 12,
   "metadata": {
    "colab": {
     "base_uri": "https://localhost:8080/"
    },
    "id": "WCm3_Q87209Y",
    "outputId": "5cfd2a1e-4af4-405f-df1b-1fb171971352"
   },
   "outputs": [
    {
     "name": "stdout",
     "output_type": "stream",
     "text": [
      "2/2 [==============================] - 0s 3ms/step\n"
     ]
    }
   ],
   "source": [
    "#Predicting outputs using test data \n",
    "y_pred=model.predict(x_test)"
   ]
  },
  {
   "cell_type": "markdown",
   "metadata": {},
   "source": [
    "## Model Evaluation using Metrics for Prediction"
   ]
  },
  {
   "cell_type": "code",
   "execution_count": 13,
   "metadata": {
    "colab": {
     "base_uri": "https://localhost:8080/"
    },
    "id": "nPyL2zGO0zYF",
    "outputId": "59c3283d-5644-4c7f-92b1-c85119ad42b0"
   },
   "outputs": [
    {
     "name": "stdout",
     "output_type": "stream",
     "text": [
      "Root Mean Squared Error: 21.748788833618164\n"
     ]
    }
   ],
   "source": [
    "m = tf.keras.metrics.RootMeanSquaredError()\n",
    "m.update_state(y_test,y_pred)\n",
    "print('Root Mean Squared Error:', float(m.result()))"
   ]
  },
  {
   "cell_type": "code",
   "execution_count": 14,
   "metadata": {
    "colab": {
     "base_uri": "https://localhost:8080/"
    },
    "id": "MPrQovrU3LIa",
    "outputId": "22853aed-3c94-4ca3-a75b-9f50a30f6b5d"
   },
   "outputs": [
    {
     "name": "stdout",
     "output_type": "stream",
     "text": [
      "Mean Squared Error: 473.0097961425781\n"
     ]
    }
   ],
   "source": [
    "m = tf.keras.metrics.MeanSquaredError()\n",
    "m.update_state(y_test,y_pred)\n",
    "print('Mean Squared Error:', float(m.result()))"
   ]
  },
  {
   "cell_type": "code",
   "execution_count": 15,
   "metadata": {
    "colab": {
     "base_uri": "https://localhost:8080/"
    },
    "id": "CqvFg09L60g8",
    "outputId": "430feb0e-6633-43e8-ed5c-52dc5c71a2c8"
   },
   "outputs": [
    {
     "name": "stdout",
     "output_type": "stream",
     "text": [
      "Mean Squared Error: 19.878429412841797\n"
     ]
    }
   ],
   "source": [
    "m = tf.keras.metrics.MeanAbsoluteError()\n",
    "m.update_state(y_test,y_pred)\n",
    "print('Mean Squared Error:', float(m.result()))"
   ]
  }
 ],
 "metadata": {
  "colab": {
   "provenance": []
  },
  "kernelspec": {
   "display_name": "Python 3 (ipykernel)",
   "language": "python",
   "name": "python3"
  },
  "language_info": {
   "codemirror_mode": {
    "name": "ipython",
    "version": 3
   },
   "file_extension": ".py",
   "mimetype": "text/x-python",
   "name": "python",
   "nbconvert_exporter": "python",
   "pygments_lexer": "ipython3",
   "version": "3.10.8"
  }
 },
 "nbformat": 4,
 "nbformat_minor": 1
}
